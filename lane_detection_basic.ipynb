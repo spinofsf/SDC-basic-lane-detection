{
 "cells": [
  {
   "cell_type": "code",
   "execution_count": 82,
   "metadata": {
    "collapsed": false,
    "deletable": true,
    "editable": true
   },
   "outputs": [
    {
     "name": "stdout",
     "output_type": "stream",
     "text": [
      "Once deleted, variables cannot be recovered. Proceed (y/[n])? y\n"
     ]
    }
   ],
   "source": [
    "%reset"
   ]
  },
  {
   "cell_type": "code",
   "execution_count": 83,
   "metadata": {
    "collapsed": true,
    "deletable": true,
    "editable": true
   },
   "outputs": [],
   "source": [
    "import matplotlib.pyplot as plt\n",
    "import matplotlib.image as mpimg\n",
    "import numpy as np\n",
    "import cv2\n",
    "import os\n",
    "%matplotlib inline"
   ]
  },
  {
   "cell_type": "code",
   "execution_count": 84,
   "metadata": {
    "collapsed": true,
    "deletable": true,
    "editable": true
   },
   "outputs": [],
   "source": [
    "def region_of_interest(img, vertices):\n",
    "    ##\"\"\"\n",
    "    ##Applies an image mask.\n",
    "    \n",
    "    ##Only keeps the region of the image defined by the polygon\n",
    "    ##formed from `vertices`. The rest of the image is set to black.\n",
    "    ##\"\"\"\n",
    "    \n",
    "    #defining a blank mask to start with\n",
    "    mask = np.zeros_like(img)   \n",
    "    \n",
    "    #defining a 3 channel or 1 channel color to fill the mask with depending on the input image\n",
    "    if len(img.shape) > 2:\n",
    "        channel_count = img.shape[2]  # i.e. 3 or 4 depending on your image\n",
    "        ignore_mask_color = (255,) * channel_count\n",
    "    else:\n",
    "        ignore_mask_color = 255\n",
    "        \n",
    "    #filling pixels inside the polygon defined by \"vertices\" with the fill color    \n",
    "    cv2.fillPoly(mask, vertices, ignore_mask_color)\n",
    "    \n",
    "    #returning the image only where mask pixels are nonzero\n",
    "    masked_image = cv2.bitwise_and(img, mask)\n",
    "    return masked_image"
   ]
  },
  {
   "cell_type": "code",
   "execution_count": 85,
   "metadata": {
    "collapsed": false,
    "deletable": true,
    "editable": true
   },
   "outputs": [],
   "source": [
    "def convert_to_gscale(image):\n",
    "    img_grayscale = cv2.cvtColor(image,cv2.COLOR_RGB2GRAY) \n",
    "    return img_grayscale"
   ]
  },
  {
   "cell_type": "code",
   "execution_count": 86,
   "metadata": {
    "collapsed": true,
    "deletable": true,
    "editable": true
   },
   "outputs": [],
   "source": [
    "def apply_canny(image,thresh =(125,200)):\n",
    "    img_canny = cv2.Canny(image,thresh[0],thresh[1])\n",
    "    return img_canny"
   ]
  },
  {
   "cell_type": "code",
   "execution_count": 87,
   "metadata": {
    "collapsed": true,
    "deletable": true,
    "editable": true
   },
   "outputs": [],
   "source": [
    "def apply_gaussblur(image, kernel_size = 3):\n",
    "    img_blur = cv2.GaussianBlur(image, (kernel_size, kernel_size), 0)\n",
    "    return img_blur"
   ]
  },
  {
   "cell_type": "code",
   "execution_count": 88,
   "metadata": {
    "collapsed": true,
    "deletable": true,
    "editable": true
   },
   "outputs": [],
   "source": [
    "def apply_hough(image):\n",
    "        \n",
    "    lines = cv2.HoughLinesP(image, 2, np.pi/180, 15, np.array([]), 10, 20)\n",
    "    return lines"
   ]
  },
  {
   "cell_type": "code",
   "execution_count": 89,
   "metadata": {
    "collapsed": true,
    "deletable": true,
    "editable": true
   },
   "outputs": [],
   "source": [
    "def weighted_img(img, initial_img, α=0.8, β=1., λ=0.):\n",
    "    \"\"\"\n",
    "    `img` is the output of the hough_lines(), An image with lines drawn on it.\n",
    "    Should be a blank image (all black) with lines drawn on it.\n",
    "    \n",
    "    `initial_img` should be the image before any processing.\n",
    "    \n",
    "    The result image is computed as follows:\n",
    "    \n",
    "    initial_img * α + img * β + λ\n",
    "    NOTE: initial_img and img must be the same shape!\n",
    "    \"\"\"\n",
    "    return cv2.addWeighted(initial_img, α, img, β, λ)"
   ]
  },
  {
   "cell_type": "code",
   "execution_count": 90,
   "metadata": {
    "collapsed": false,
    "deletable": true,
    "editable": true
   },
   "outputs": [],
   "source": [
    "def draw_lines(image, lines, color=[0, 255, 0], thickness=3):\n",
    "    \"\"\"\n",
    "    NOTE: this is the function you might want to use as a starting point once you want to \n",
    "    average/extrapolate the line segments you detect to map out the full\n",
    "    extent of the lane (going from the result shown in raw-lines-example.mp4\n",
    "    to that shown in P1_example.mp4).  \n",
    "    \n",
    "    Think about things like separating line segments by their \n",
    "    slope ((y2-y1)/(x2-x1)) to decide which segments are part of the left\n",
    "    line vs. the right line.  Then, you can average the position of each of \n",
    "    the lines and extrapolate to the top and bottom of the lane.\n",
    "    \n",
    "    This function draws `lines` with `color` and `thickness`.    \n",
    "    Lines are drawn on the image inplace (mutates the image).\n",
    "    If you want to make the lines semi-transparent, think about combining\n",
    "    this function with the weighted_img() function below\n",
    "    \"\"\"\n",
    "    #for line in lines:\n",
    "    #    for x1,y1,x2,y2 in line:\n",
    "    #        cv2.line(img, (x1, y1), (x2, y2), color, thickness)\n",
    "            \n",
    "    img_copy = np.copy(image)\n",
    "    \n",
    "    x_center = (np.rint(image.shape[1]/2)).astype(int)\n",
    "                \n",
    "    leftfit_xarr = []\n",
    "    leftfit_yarr = []\n",
    "    \n",
    "    rightfit_xarr = []\n",
    "    rightfit_yarr = []\n",
    "    \n",
    "    slope_thresh1 = -0.5\n",
    "    slope_thresh2 = 0.5\n",
    "    #print(type(lines),lines.shape)\n",
    "    \n",
    "    \n",
    "    for line in lines:\n",
    "        for x1,y1,x2,y2 in line:\n",
    "            #few error correction cases - eliminate slope of 0 or infinity\n",
    "            if ((x1 == x2) or (y1 == y2)):\n",
    "                break;  \n",
    "            \n",
    "            #check slope and classify them as left and right lines\n",
    "            slope = (y2-y1)/(x2-x1);\n",
    "            \n",
    "            #print('Slope is :',slope, x1, x2, x_center)\n",
    "            if ((x1 < x_center) and (x2 < x_center) and (slope < slope_thresh1) ):\n",
    "                #print(slope, x1,y1,x2,y2,x_center)\n",
    "                leftfit_xarr = np.append(leftfit_xarr, x1)\n",
    "                leftfit_yarr = np.append(leftfit_yarr,y1)\n",
    "                leftfit_xarr = np.append(leftfit_xarr, x2)\n",
    "                leftfit_yarr = np.append(leftfit_yarr,y2)\n",
    "                                \n",
    "            elif ((x1 > x_center) and (x2 > x_center) and (slope > slope_thresh2)):\n",
    "                rightfit_xarr = np.append(rightfit_xarr, x1)\n",
    "                rightfit_yarr = np.append(rightfit_yarr,y1)\n",
    "                rightfit_xarr = np.append(rightfit_xarr, x2)\n",
    "                rightfit_yarr = np.append(rightfit_yarr,y2)\n",
    "\n",
    "    #fit the x and y lane coordinates collected \n",
    "    fitleft_m, fitleft_c = np.polyfit(leftfit_xarr, leftfit_yarr, 1)\n",
    "    fitright_m, fitright_c = np.polyfit(rightfit_xarr, rightfit_yarr, 1)\n",
    "    \n",
    "    #define the ycorodinates where the linear fit will be evaluated\n",
    "    y_vals_max = img_copy.shape[0]\n",
    "    y_vals_min = img_copy.shape[0] - 210\n",
    "    \n",
    "    #calculate x values of left and right lanes from the linear fit\n",
    "    x_vals_lft_min = ((y_vals_min - fitleft_c)/fitleft_m).astype(int)\n",
    "    x_vals_lft_max = ((y_vals_max - fitleft_c)/fitleft_m).astype(int)\n",
    "    \n",
    "    x_vals_rt_min = ((y_vals_min - fitright_c)/fitright_m).astype(int)\n",
    "    x_vals_rt_max = ((y_vals_max - fitright_c)/fitright_m).astype(int)\n",
    "    \n",
    "    #draw the line on the source image\n",
    "    cv2.line(image, (x_vals_lft_min, y_vals_min), (x_vals_lft_max, y_vals_max), color, thickness)\n",
    "    cv2.line(image, (x_vals_rt_min, y_vals_min), (x_vals_rt_max, y_vals_max), color, thickness)\n",
    "    \n",
    "    return image"
   ]
  },
  {
   "cell_type": "code",
   "execution_count": 91,
   "metadata": {
    "collapsed": false,
    "deletable": true,
    "editable": true
   },
   "outputs": [],
   "source": [
    "# function that shows outputlines from the hough transform - for debusgging only\n",
    "def show_houghlines(image, lines, color = [255,0,0], thickness = 3):\n",
    "    img_copy = np.copy(image)\n",
    "    for line in lines:\n",
    "        for x1, y1, x2, y2 in line:\n",
    "           cv2.line(img_copy, (x1, y1), (x2, y2), color, thickness) \n",
    "    return "
   ]
  },
  {
   "cell_type": "code",
   "execution_count": 92,
   "metadata": {
    "collapsed": true,
    "deletable": true,
    "editable": true
   },
   "outputs": [],
   "source": [
    "def colormask_yellowwhite(image):\n",
    "    \n",
    "    # Add yellow color mask and white mask to better detect the lanes\n",
    "    # White horizontal marker lanes seems to introduce errors int the pipeline \n",
    "        \n",
    "    #contains actual image on the left    \n",
    "    image_left = np.copy(image)\n",
    "    image_rt = np.copy(image)\n",
    "    \n",
    "    #Look for white pixels\n",
    "    white_threshold = 200\n",
    "    lower_white = np.array([200, 200, 200])\n",
    "    upper_white = np.array([255, 255, 255])\n",
    "    white_mask = cv2.inRange(image_rt, lower_white, upper_white)\n",
    "    white_image = cv2.bitwise_and(image_rt, image_rt, mask=white_mask)\n",
    "  \n",
    "    # Look for yellow pixels\n",
    "    hsv = cv2.cvtColor(image_left, cv2.COLOR_BGR2HSV)\n",
    "    low_yellow = np.array([90,100,100])\n",
    "    up_yellow = np.array([110,255,255])\n",
    "        \n",
    "    yellow_mask = cv2.inRange(hsv, low_yellow, up_yellow)\n",
    "    yellow_image = cv2.bitwise_and(image_left, image_left, mask=yellow_mask)\n",
    "  \n",
    "    # Combine the two above images\n",
    "    image_clrmasked = cv2.addWeighted(white_image, 1., yellow_image, 1., 0.)\n",
    "    \n",
    "    return image_clrmasked"
   ]
  },
  {
   "cell_type": "code",
   "execution_count": 98,
   "metadata": {
    "collapsed": true,
    "deletable": true,
    "editable": true
   },
   "outputs": [],
   "source": [
    "#Image pipeline \n",
    "def image_pipeline(image, canny_thresh, vertices):  \n",
    "    mask_img = colormask_yellowwhite(image)\n",
    "    img_grayscale = convert_to_gscale(mask_img)\n",
    "    blur_img = apply_gaussblur(img_grayscale)\n",
    "    img_canny = apply_canny(blur_img,canny_thresh)\n",
    "    img_bounded = region_of_interest(img_canny, vertices)\n",
    "    lines = apply_hough(img_bounded)\n",
    "    #show_houghlines(img_bounded, lines) \n",
    "    filled_image = draw_lines(image, lines)\n",
    "    #ant_image = anotate_image(filled_image)\n",
    "    \n",
    "    return filled_image"
   ]
  },
  {
   "cell_type": "code",
   "execution_count": 94,
   "metadata": {
    "collapsed": false,
    "deletable": true,
    "editable": true
   },
   "outputs": [],
   "source": [
    "canny_thresh = (50,150)\n",
    "vertices = np.array([[0,540],[450,320],[500,320],[960,540]],dtype=np.int32);"
   ]
  },
  {
   "cell_type": "code",
   "execution_count": 95,
   "metadata": {
    "collapsed": false,
    "deletable": true,
    "editable": true
   },
   "outputs": [],
   "source": [
    "### Process test images through the pipeline\n",
    "\n",
    "img_folder = './test_images/'\n",
    "output_folder = './test_images_output/'\n",
    "img_list = ['solidWhiteCurve.jpg', 'solidWhiteRight.jpg', 'solidYellowCurve.jpg', 'solidYellowCurve2.jpg',\n",
    "                'solidYellowLeft.jpg','whiteCarLaneSwitch.jpg']\n",
    "\n",
    "for img_name in img_list:\n",
    "    img_path = img_folder + img_name\n",
    "    image = mpimg.imread(img_path)\n",
    "    image_pipeline(image, canny_thresh, [vertices])\n",
    "    mpimg.imsave(output_folder + 'out_' + img_name, image)        "
   ]
  },
  {
   "cell_type": "code",
   "execution_count": 96,
   "metadata": {
    "collapsed": false,
    "deletable": true,
    "editable": true
   },
   "outputs": [
    {
     "name": "stdout",
     "output_type": "stream",
     "text": [
      "[MoviePy] >>>> Building video ./test_videos_output/white.mp4\n",
      "[MoviePy] Writing video ./test_videos_output/white.mp4\n"
     ]
    },
    {
     "name": "stderr",
     "output_type": "stream",
     "text": [
      "100%|██████████| 221/221 [00:04<00:00, 46.77it/s]\n"
     ]
    },
    {
     "name": "stdout",
     "output_type": "stream",
     "text": [
      "[MoviePy] Done.\n",
      "[MoviePy] >>>> Video ready: ./test_videos_output/white.mp4 \n",
      "\n",
      "CPU times: user 219 ms, sys: 181 ms, total: 401 ms\n",
      "Wall time: 5.77 s\n"
     ]
    },
    {
     "data": {
      "text/html": [
       "\n",
       "<video width=\"960\" height=\"540\" controls>\n",
       "  <source src=\"./test_videos_output/white.mp4\">\n",
       "</video>\n"
      ],
      "text/plain": [
       "<IPython.core.display.HTML object>"
      ]
     },
     "execution_count": 96,
     "metadata": {},
     "output_type": "execute_result"
    }
   ],
   "source": [
    "### Process video\n",
    "# Import everything needed to edit/save/watch video clips\n",
    "import moviepy\n",
    "from moviepy.editor import *\n",
    "import imageio\n",
    "imageio.plugins.ffmpeg.download()\n",
    "from moviepy.editor import VideoFileClip\n",
    "from IPython.display import HTML\n",
    "\n",
    "white_output = './test_videos_output/white.mp4'\n",
    "clip = VideoFileClip(\"./test_videos/solidWhiteRight.mp4\")\n",
    "output_frames = [image_pipeline(frame, canny_thresh, [vertices]) for frame in clip.iter_frames()]\n",
    "white_clip = ImageSequenceClip(output_frames, fps=clip.fps)\n",
    "%time white_clip.write_videofile(white_output, audio=False)\n",
    "HTML(\"\"\"\n",
    "<video width=\"960\" height=\"540\" controls>\n",
    "  <source src=\"{0}\">\n",
    "</video>\n",
    "\"\"\".format(white_output))"
   ]
  },
  {
   "cell_type": "code",
   "execution_count": 97,
   "metadata": {
    "collapsed": false,
    "deletable": true,
    "editable": true
   },
   "outputs": [
    {
     "name": "stdout",
     "output_type": "stream",
     "text": [
      "[MoviePy] >>>> Building video ./test_videos_output/yellow.mp4\n",
      "[MoviePy] Writing video ./test_videos_output/yellow.mp4\n"
     ]
    },
    {
     "name": "stderr",
     "output_type": "stream",
     "text": [
      "100%|██████████| 681/681 [00:19<00:00, 34.92it/s]\n"
     ]
    },
    {
     "name": "stdout",
     "output_type": "stream",
     "text": [
      "[MoviePy] Done.\n",
      "[MoviePy] >>>> Video ready: ./test_videos_output/yellow.mp4 \n",
      "\n",
      "CPU times: user 854 ms, sys: 1.53 s, total: 2.38 s\n",
      "Wall time: 20.6 s\n"
     ]
    },
    {
     "data": {
      "text/html": [
       "\n",
       "<video width=\"960\" height=\"540\" controls>\n",
       "  <source src=\"./test_videos_output/yellow.mp4\">\n",
       "</video>\n"
      ],
      "text/plain": [
       "<IPython.core.display.HTML object>"
      ]
     },
     "execution_count": 97,
     "metadata": {},
     "output_type": "execute_result"
    }
   ],
   "source": [
    "yellow_output = './test_videos_output/yellow.mp4'\n",
    "clip1 = VideoFileClip(\"./test_videos/solidYellowLeft.mp4\")\n",
    "count = 1\n",
    "output_frames = []\n",
    "\n",
    "#for frame in clip1.iter_frames():    \n",
    "#    output_frames = np.append(output_frames,image_pipeline(frame, canny_thresh, [vertices], count))\n",
    "#    count = count+1\n",
    "\n",
    "output_frames = [image_pipeline(frame, canny_thresh, [vertices]) for frame in clip1.iter_frames()]    \n",
    "yellow_clip = ImageSequenceClip(output_frames, fps=clip.fps)\n",
    "%time yellow_clip.write_videofile(yellow_output, audio=False)\n",
    "HTML(\"\"\"\n",
    "<video width=\"960\" height=\"540\" controls>\n",
    "  <source src=\"{0}\">\n",
    "</video>\n",
    "\"\"\".format(yellow_output))"
   ]
  }
 ],
 "metadata": {
  "anaconda-cloud": {},
  "kernelspec": {
   "display_name": "Python 3",
   "language": "python",
   "name": "python3"
  },
  "language_info": {
   "codemirror_mode": {
    "name": "ipython",
    "version": 3
   },
   "file_extension": ".py",
   "mimetype": "text/x-python",
   "name": "python",
   "nbconvert_exporter": "python",
   "pygments_lexer": "ipython3",
   "version": "3.5.2"
  }
 },
 "nbformat": 4,
 "nbformat_minor": 1
}
